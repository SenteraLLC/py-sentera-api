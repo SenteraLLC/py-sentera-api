{
 "cells": [
  {
   "cell_type": "code",
   "execution_count": null,
   "metadata": {},
   "outputs": [],
   "source": [
    "# Fill in username and password\n",
    "USERNAME = \n",
    "PASSWORD = "
   ]
  },
  {
   "cell_type": "code",
   "execution_count": null,
   "metadata": {},
   "outputs": [],
   "source": [
    "import sentera.api\n",
    "import sentera.auth\n",
    "\n",
    "token = sentera.auth.get_auth_token(USERNAME, PASSWORD)"
   ]
  },
  {
   "cell_type": "code",
   "execution_count": null,
   "metadata": {},
   "outputs": [],
   "source": [
    "fields_df = sentera.api.get_all_fields(token)\n",
    "field = fields_df.iloc[0]\n",
    "print(field)"
   ]
  },
  {
   "cell_type": "code",
   "execution_count": null,
   "metadata": {},
   "outputs": [],
   "source": [
    "weather_df = sentera.api.get_weather(\"recent\", \n",
    "                                     [\"temperature\", \"relative-humidity\"], \n",
    "                                     \"hourly\", \n",
    "                                     [\"2020/01/01\", \"2020/01/03\"], \n",
    "                                     field_name=field[\"name\"], \n",
    "                                     token=token)\n",
    "print(weather_df.head())"
   ]
  },
  {
   "cell_type": "code",
   "execution_count": null,
   "metadata": {},
   "outputs": [],
   "source": []
  }
 ],
 "metadata": {
  "kernelspec": {
   "display_name": "Python 3",
   "language": "python",
   "name": "python3"
  },
  "language_info": {
   "codemirror_mode": {
    "name": "ipython",
    "version": 3
   },
   "file_extension": ".py",
   "mimetype": "text/x-python",
   "name": "python",
   "nbconvert_exporter": "python",
   "pygments_lexer": "ipython3",
   "version": "3.6.7"
  }
 },
 "nbformat": 4,
 "nbformat_minor": 2
}
