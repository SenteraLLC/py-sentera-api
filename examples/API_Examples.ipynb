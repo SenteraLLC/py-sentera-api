{
 "cells": [
  {
   "cell_type": "code",
   "execution_count": null,
   "metadata": {},
   "outputs": [],
   "source": [
    "# Fill in username and password (as strings)\n",
    "USERNAME = \n",
    "PASSWORD = "
   ]
  },
  {
   "cell_type": "code",
   "execution_count": null,
   "metadata": {},
   "outputs": [],
   "source": [
    "import pandas\n",
    "\n",
    "pandas.set_option('display.max_rows', None)"
   ]
  },
  {
   "cell_type": "code",
   "execution_count": null,
   "metadata": {},
   "outputs": [],
   "source": [
    "import sentera.api\n",
    "import sentera.auth\n",
    "\n",
    "token = sentera.auth.get_auth_token(USERNAME, PASSWORD)"
   ]
  },
  {
   "cell_type": "code",
   "execution_count": null,
   "metadata": {},
   "outputs": [],
   "source": [
    "fields_df = sentera.api.get_all_fields(token)\n",
    "fields = fields_df.iloc[0:100]\n",
    "fields.head()"
   ]
  },
  {
   "cell_type": "code",
   "execution_count": null,
   "metadata": {},
   "outputs": [],
   "source": [
    "import time\n",
    "time1 = time.time()\n",
    "\n",
    "weather_type = \"historical\"\n",
    "weather_variables = [\"high-temperature\", \"low-temperature\", \"precipitation\"]\n",
    "weather_interval = \"daily\"\n",
    "time_interval = [\"2019/01/01\", \"2019/12/31\"]\n",
    "field_names = list(fields[\"name\"])\n",
    "\n",
    "weather_df = await sentera.api.get_weather(weather_type, \n",
    "                                           weather_variables, \n",
    "                                           weather_interval, \n",
    "                                           time_interval, \n",
    "                                           field_names=field_names, \n",
    "                                           token=token)\n",
    "time2 = time.time()\n",
    "print(f\"Average time per field: {(time2 - time1)/(len(weather_variables) * len(weather_df)):.4f} sec\")\n",
    "weather_df"
   ]
  },
  {
   "cell_type": "code",
   "execution_count": null,
   "metadata": {},
   "outputs": [],
   "source": []
  }
 ],
 "metadata": {
  "kernelspec": {
   "display_name": "Python 3",
   "language": "python",
   "name": "python3"
  },
  "language_info": {
   "codemirror_mode": {
    "name": "ipython",
    "version": 3
   },
   "file_extension": ".py",
   "mimetype": "text/x-python",
   "name": "python",
   "nbconvert_exporter": "python",
   "pygments_lexer": "ipython3",
   "version": "3.6.7"
  }
 },
 "nbformat": 4,
 "nbformat_minor": 2
}
