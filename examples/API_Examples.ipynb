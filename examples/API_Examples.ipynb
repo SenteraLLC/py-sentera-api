{
 "cells": [
  {
   "cell_type": "code",
   "execution_count": 5,
   "metadata": {},
   "outputs": [],
   "source": [
    "USERNAME = \"elliott.imhoff@sentera.com\"\n",
    "PASSWORD = \"HpmySuh86W^5\""
   ]
  },
  {
   "cell_type": "code",
   "execution_count": 6,
   "metadata": {},
   "outputs": [],
   "source": [
    "import sentera.api\n",
    "import sentera.auth\n",
    "\n",
    "token = sentera.auth.get_auth_token(USERNAME, PASSWORD)"
   ]
  },
  {
   "cell_type": "code",
   "execution_count": 9,
   "metadata": {},
   "outputs": [
    {
     "name": "stdout",
     "output_type": "stream",
     "text": [
      "sentera_id    t4tm5s6_AS_oipfSenteraDe_CV_prod_3fe8447_19121...\n",
      "name             new-field-f96e827c-24f7-4bd6-ace1-b0fabc33add3\n",
      "latitude                                                39.7842\n",
      "longitude                                              -85.1352\n",
      "Name: 0, dtype: object\n"
     ]
    }
   ],
   "source": [
    "fields = sentera.api.get_all_fields(token)\n",
    "field = fields.iloc[0]\n",
    "print(field)"
   ]
  },
  {
   "cell_type": "code",
   "execution_count": 11,
   "metadata": {},
   "outputs": [
    {
     "name": "stdout",
     "output_type": "stream",
     "text": [
      "              validTime  relative-humidity  temperature\n",
      "0  2020-01-01T00:00:00Z               84.5         32.5\n",
      "1  2020-01-01T01:00:00Z               84.0         32.3\n",
      "2  2020-01-01T02:00:00Z               83.4         32.3\n",
      "3  2020-01-01T03:00:00Z               80.3         32.4\n",
      "4  2020-01-01T04:00:00Z               82.3         32.4\n"
     ]
    }
   ],
   "source": [
    "sentera.api.get_weather(\"recent\", \n",
    "                        [\"temperature\", \"relative-humidity\"], \n",
    "                        \"hourly\", \n",
    "                        [\"2020/01/01\", \"2020/01/03\"], \n",
    "                        field_name=field[\"name\"], \n",
    "                        token=token)"
   ]
  },
  {
   "cell_type": "code",
   "execution_count": null,
   "metadata": {},
   "outputs": [],
   "source": []
  }
 ],
 "metadata": {
  "kernelspec": {
   "display_name": "Python 3",
   "language": "python",
   "name": "python3"
  },
  "language_info": {
   "codemirror_mode": {
    "name": "ipython",
    "version": 3
   },
   "file_extension": ".py",
   "mimetype": "text/x-python",
   "name": "python",
   "nbconvert_exporter": "python",
   "pygments_lexer": "ipython3",
   "version": "3.6.7"
  }
 },
 "nbformat": 4,
 "nbformat_minor": 2
}
